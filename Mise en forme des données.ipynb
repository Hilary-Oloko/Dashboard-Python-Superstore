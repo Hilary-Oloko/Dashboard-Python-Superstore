{
 "cells": [
  {
   "cell_type": "code",
   "execution_count": 2,
   "metadata": {},
   "outputs": [],
   "source": [
    "import psycopg2\n",
    "import pandas as pd\n",
    "from psycopg2.extras import execute_values"
   ]
  },
  {
   "cell_type": "code",
   "execution_count": 3,
   "metadata": {},
   "outputs": [],
   "source": [
    "# connexion BDD\n",
    "host = \"localhost\"\n",
    "database = \"DB_SUPERSTORE\"\n",
    "user = \"postgres\"\n",
    "password = \"root\"\n",
    "\n",
    "conn = psycopg2.connect(\n",
    "    host=host,\n",
    "    database=database,\n",
    "    user=user,\n",
    "    password=password\n",
    ")"
   ]
  },
  {
   "cell_type": "code",
   "execution_count": 4,
   "metadata": {},
   "outputs": [],
   "source": [
    "# Créer un curseur\n",
    "cur = conn.cursor()\n",
    "\n",
    "# Exécuter une requête SQL\n",
    "cur.execute(\"SELECT * FROM s_superstore.tb_superstore\")\n",
    "data = cur.fetchall()\n",
    "\n",
    "# Transformer les résultats en DataFrame Pandas\n",
    "df = pd.DataFrame(data, columns=[\"order_id\",\"order_date\",\"ship_date\",\"ship_mode\",\"customer_id\",\"customer_name\",\"segment\",\"country\",\"city\",\"state\",\"postal_code\",\"region\",\"product_id\",\"category\",\"sub_category\",\"product_name\",\"sales\",\"quantity\",\"discount\",\"profit\"])"
   ]
  },
  {
   "cell_type": "code",
   "execution_count": 5,
   "metadata": {},
   "outputs": [
    {
     "data": {
      "text/plain": [
       "<AxesSubplot:>"
      ]
     },
     "execution_count": 5,
     "metadata": {},
     "output_type": "execute_result"
    },
    {
     "data": {
      "image/png": "[encoded data removed]",
      "text/plain": [
       "<Figure size 640x480 with 1 Axes>"
      ]
     },
     "metadata": {},
     "output_type": "display_data"
    }
   ],
   "source": [
    "df['category'].hist()\n",
    "df['region'].hist()"
   ]
  },
  {
   "cell_type": "code",
   "execution_count": 6,
   "metadata": {},
   "outputs": [],
   "source": [
    "# Supprimer les lignes sans valeur sales\n",
    "df = df.dropna(subset=[\"quantity\"]) #Avec cette modification on a maintant 9987 lignes\n",
    "\n",
    "# Définir le type de chaque colonne\n",
    "df['order_id'] = df['order_id'].astype(str)\n",
    "df['order_date'] = pd.to_datetime(df['order_date'])\n",
    "df['ship_date'] = pd.to_datetime(df['ship_date'])\n",
    "df['ship_mode'] = df['ship_mode'].astype(str)\n",
    "df['customer_id'] = df['customer_id'].astype(str)\n",
    "df['customer_name'] = df['customer_name'].astype(str)\n",
    "df['segment'] = df['segment'].astype(str)\n",
    "df['country'] = df['country'].astype(str)\n",
    "df['city'] = df['city'].astype(str)\n",
    "df['state'] = df['state'].astype(str)\n",
    "df['postal_code'] = df['postal_code'].astype(str)\n",
    "df['region'] = df['region'].astype(str)\n",
    "df['product_id'] = df['product_id'].astype(str)\n",
    "df['category'] = df['category'].astype(str)\n",
    "df['sub_category'] = df['sub_category'].astype(str)\n",
    "df['product_name'] = df['product_name'].astype(str)\n",
    "df['sales'] = df['sales'].astype(float)\n",
    "df['quantity'] = df['quantity'].astype(int)\n",
    "df['discount'] = df['discount'].astype(float)\n",
    "df['profit'] = df['profit'].astype(float)"
   ]
  },
  {
   "cell_type": "code",
   "execution_count": 7,
   "metadata": {},
   "outputs": [
    {
     "data": {
      "text/html": [
       "<div>\n",
       "<style scoped>\n",
       "    .dataframe tbody tr th:only-of-type {\n",
       "        vertical-align: middle;\n",
       "    }\n",
       "\n",
       "    .dataframe tbody tr th {\n",
       "        vertical-align: top;\n",
       "    }\n",
       "\n",
       "    .dataframe thead th {\n",
       "        text-align: right;\n",
       "    }\n",
       "</style>\n",
       "<table border=\"1\" class=\"dataframe\">\n",
       "  <thead>\n",
       "    <tr style=\"text-align: right;\">\n",
       "      <th></th>\n",
       "      <th>sales</th>\n",
       "      <th>quantity</th>\n",
       "      <th>discount</th>\n",
       "      <th>profit</th>\n",
       "      <th>unit_price</th>\n",
       "    </tr>\n",
       "  </thead>\n",
       "  <tbody>\n",
       "    <tr>\n",
       "      <th>count</th>\n",
       "      <td>9987.000000</td>\n",
       "      <td>9987.000000</td>\n",
       "      <td>9987.000000</td>\n",
       "      <td>9987.000000</td>\n",
       "      <td>9987.000000</td>\n",
       "    </tr>\n",
       "    <tr>\n",
       "      <th>mean</th>\n",
       "      <td>229.797993</td>\n",
       "      <td>3.788825</td>\n",
       "      <td>0.156182</td>\n",
       "      <td>28.637213</td>\n",
       "      <td>75.560120</td>\n",
       "    </tr>\n",
       "    <tr>\n",
       "      <th>std</th>\n",
       "      <td>623.453932</td>\n",
       "      <td>2.225016</td>\n",
       "      <td>0.206511</td>\n",
       "      <td>234.339100</td>\n",
       "      <td>189.023502</td>\n",
       "    </tr>\n",
       "    <tr>\n",
       "      <th>min</th>\n",
       "      <td>0.444000</td>\n",
       "      <td>1.000000</td>\n",
       "      <td>0.000000</td>\n",
       "      <td>-6599.980000</td>\n",
       "      <td>0.990000</td>\n",
       "    </tr>\n",
       "    <tr>\n",
       "      <th>25%</th>\n",
       "      <td>17.248000</td>\n",
       "      <td>2.000000</td>\n",
       "      <td>0.000000</td>\n",
       "      <td>1.730000</td>\n",
       "      <td>6.480000</td>\n",
       "    </tr>\n",
       "    <tr>\n",
       "      <th>50%</th>\n",
       "      <td>54.368000</td>\n",
       "      <td>3.000000</td>\n",
       "      <td>0.200000</td>\n",
       "      <td>8.640000</td>\n",
       "      <td>19.980000</td>\n",
       "    </tr>\n",
       "    <tr>\n",
       "      <th>75%</th>\n",
       "      <td>209.836000</td>\n",
       "      <td>5.000000</td>\n",
       "      <td>0.200000</td>\n",
       "      <td>29.340000</td>\n",
       "      <td>76.980000</td>\n",
       "    </tr>\n",
       "    <tr>\n",
       "      <th>max</th>\n",
       "      <td>22638.480000</td>\n",
       "      <td>14.000000</td>\n",
       "      <td>0.800000</td>\n",
       "      <td>8399.980000</td>\n",
       "      <td>7546.160000</td>\n",
       "    </tr>\n",
       "  </tbody>\n",
       "</table>\n",
       "</div>"
      ],
      "text/plain": [
       "              sales     quantity     discount       profit   unit_price\n",
       "count   9987.000000  9987.000000  9987.000000  9987.000000  9987.000000\n",
       "mean     229.797993     3.788825     0.156182    28.637213    75.560120\n",
       "std      623.453932     2.225016     0.206511   234.339100   189.023502\n",
       "min        0.444000     1.000000     0.000000 -6599.980000     0.990000\n",
       "25%       17.248000     2.000000     0.000000     1.730000     6.480000\n",
       "50%       54.368000     3.000000     0.200000     8.640000    19.980000\n",
       "75%      209.836000     5.000000     0.200000    29.340000    76.980000\n",
       "max    22638.480000    14.000000     0.800000  8399.980000  7546.160000"
      ]
     },
     "execution_count": 7,
     "metadata": {},
     "output_type": "execute_result"
    }
   ],
   "source": [
    "# Identifier les produits avec des ID dupliqués\n",
    "duplicate_product_id = df.groupby('product_id')['product_name'].nunique()\n",
    "products_with_duplicates = duplicate_product_id[duplicate_product_id > 1].index #Liste des product_id avec deux noms\n",
    "\n",
    "# Mettre à jour les ID des produits en doublon\n",
    "for product_id in products_with_duplicates:\n",
    "    # Récupérer toutes les lignes avec cet ID de produit\n",
    "    rows_with_duplicate_id = df.loc[df['product_id'] == product_id]\n",
    "    \n",
    "    # Identifier les lignes avec le deuxième nom de produit\n",
    "    second_product_names = rows_with_duplicate_id['product_name'].value_counts().index[1:]\n",
    "    \n",
    "    # Mettre à jour l'ID des lignes avec le deuxième nom de produit\n",
    "    for product_name in second_product_names:\n",
    "        rows_to_update = rows_with_duplicate_id.loc[rows_with_duplicate_id['product_name'] == product_name]\n",
    "        new_product_id = f\"{product_id}2\"\n",
    "        for i, row in rows_to_update.iterrows():\n",
    "            df.at[i, 'product_id'] = new_product_id #Maintenant on a 1893 produit différents\n",
    "\n",
    "# Calculer le prix unitaire en utilisant la formule : sales / (quantity * (1 - discount))\n",
    "df['unit_price'] = (df['sales'] / (df['quantity'] * (1 - df['discount']))).round(2)\n",
    "\n",
    "# Identifier les produits avec le même nom\n",
    "# Liste des produits avec le même nom mais des ID différents et de catégory ou sub cat différentes\n",
    "diff_id = df.loc[df.groupby('product_name')['product_id'].transform('nunique') == 2].copy()\n",
    "#On utilise == 2 parce qu'apès analyse on a remarqué que seul ceux avec 2 ID sont identiques\n",
    "diff_id = diff_id[diff_id.groupby('product_name')['unit_price'].transform('nunique') == 1]\n",
    "df.loc[diff_id.index, 'product_id'] = diff_id.groupby('product_name')['product_id'].transform('first')\n",
    "\n",
    "# Arrondi profit\n",
    "df['profit']=df['profit'].round(2)\n",
    "\n",
    "\n",
    "df.describe()"
   ]
  },
  {
   "cell_type": "code",
   "execution_count": 8,
   "metadata": {},
   "outputs": [
    {
     "name": "stdout",
     "output_type": "stream",
     "text": [
      "<class 'pandas.core.frame.DataFrame'>\n",
      "Int64Index: 1886 entries, 0 to 9933\n",
      "Data columns (total 5 columns):\n",
      " #   Column        Non-Null Count  Dtype  \n",
      "---  ------        --------------  -----  \n",
      " 0   product_id    1886 non-null   object \n",
      " 1   product_name  1886 non-null   object \n",
      " 2   category      1886 non-null   object \n",
      " 3   sub_category  1886 non-null   object \n",
      " 4   unit_price    1886 non-null   float64\n",
      "dtypes: float64(1), object(4)\n",
      "memory usage: 88.4+ KB\n"
     ]
    }
   ],
   "source": [
    "# Création de Product\n",
    "list = ['product_id','product_name', 'category', 'sub_category', 'unit_price']\n",
    "product = df[list]\n",
    "\n",
    "# Supprimer les product_id en double pour avoir des valeur unique dans la dimension\n",
    "product = product.drop_duplicates(subset=\"product_id\")\n",
    "product.describe() # On se rerouve avec 1886 produits différents\n",
    "\n",
    "product['product_id'] = df['product_id'].astype(str)\n",
    "product['category'] = df['category'].astype(str)\n",
    "product['sub_category'] = df['sub_category'].astype(str)\n",
    "product['product_name'] = df['product_name'].astype(str)"
   ]
  },
  {
   "cell_type": "code",
   "execution_count": 9,
   "metadata": {},
   "outputs": [],
   "source": [
    "# Creation customer\n",
    "list = ['customer_id','customer_name', 'segment','region', 'state', 'city', 'postal_code']\n",
    "customer = df[list]\n",
    "\n",
    "#Supprimer les valeurs en double\n",
    "customer = customer.drop_duplicates(subset=\"customer_id\")\n",
    "#customer.describe()"
   ]
  },
  {
   "cell_type": "code",
   "execution_count": 10,
   "metadata": {},
   "outputs": [],
   "source": [
    "# Creation de Order\n",
    "to_drop = ['customer_name', 'segment', 'country', 'city', 'state', 'postal_code','region', 'category', 'sub_category', 'product_name', 'unit_price']\n",
    "order = df.drop(columns=to_drop)"
   ]
  },
  {
   "cell_type": "code",
   "execution_count": 11,
   "metadata": {},
   "outputs": [
    {
     "ename": "UniqueViolation",
     "evalue": "ERREUR:  la valeur d'une clé dupliquée rompt la contrainte unique « TB_CUSTOMER »\nDETAIL:  La clé « (customer_id)=(CG-12520) » existe déjà.\n",
     "output_type": "error",
     "traceback": [
      "\u001b[1;31m---------------------------------------------------------------------------\u001b[0m",
      "\u001b[1;31mUniqueViolation\u001b[0m                           Traceback (most recent call last)",
      "Cell \u001b[1;32mIn [11], line 6\u001b[0m\n\u001b[0;32m      4\u001b[0m     sql \u001b[38;5;241m=\u001b[39m \u001b[38;5;124m\"\u001b[39m\u001b[38;5;124mINSERT INTO s_superstore.tb_customer (customer_id, customer_name, segment, region, state, city, postal_code) VALUES (\u001b[39m\u001b[38;5;132;01m%s\u001b[39;00m\u001b[38;5;124m, \u001b[39m\u001b[38;5;132;01m%s\u001b[39;00m\u001b[38;5;124m, \u001b[39m\u001b[38;5;132;01m%s\u001b[39;00m\u001b[38;5;124m, \u001b[39m\u001b[38;5;132;01m%s\u001b[39;00m\u001b[38;5;124m, \u001b[39m\u001b[38;5;132;01m%s\u001b[39;00m\u001b[38;5;124m, \u001b[39m\u001b[38;5;132;01m%s\u001b[39;00m\u001b[38;5;124m, \u001b[39m\u001b[38;5;132;01m%s\u001b[39;00m\u001b[38;5;124m)\u001b[39m\u001b[38;5;124m\"\u001b[39m\n\u001b[0;32m      5\u001b[0m     values \u001b[38;5;241m=\u001b[39m (row[\u001b[38;5;124m'\u001b[39m\u001b[38;5;124mcustomer_id\u001b[39m\u001b[38;5;124m'\u001b[39m], row[\u001b[38;5;124m'\u001b[39m\u001b[38;5;124mcustomer_name\u001b[39m\u001b[38;5;124m'\u001b[39m], row[\u001b[38;5;124m'\u001b[39m\u001b[38;5;124msegment\u001b[39m\u001b[38;5;124m'\u001b[39m], row[\u001b[38;5;124m'\u001b[39m\u001b[38;5;124mregion\u001b[39m\u001b[38;5;124m'\u001b[39m], row[\u001b[38;5;124m'\u001b[39m\u001b[38;5;124mstate\u001b[39m\u001b[38;5;124m'\u001b[39m], row[\u001b[38;5;124m'\u001b[39m\u001b[38;5;124mcity\u001b[39m\u001b[38;5;124m'\u001b[39m], row[\u001b[38;5;124m'\u001b[39m\u001b[38;5;124mpostal_code\u001b[39m\u001b[38;5;124m'\u001b[39m])\n\u001b[1;32m----> 6\u001b[0m     \u001b[43mcursor\u001b[49m\u001b[38;5;241;43m.\u001b[39;49m\u001b[43mexecute\u001b[49m\u001b[43m(\u001b[49m\u001b[43msql\u001b[49m\u001b[43m,\u001b[49m\u001b[43m \u001b[49m\u001b[43mvalues\u001b[49m\u001b[43m)\u001b[49m\n\u001b[0;32m      8\u001b[0m conn\u001b[38;5;241m.\u001b[39mcommit()\n",
      "\u001b[1;31mUniqueViolation\u001b[0m: ERREUR:  la valeur d'une clé dupliquée rompt la contrainte unique « TB_CUSTOMER »\nDETAIL:  La clé « (customer_id)=(CG-12520) » existe déjà.\n"
     ]
    }
   ],
   "source": [
    "# Insérer les données du dataframe dans la table s_superstore.tb_customer\n",
    "cursor = conn.cursor()\n",
    "for index, row in customer.iterrows():\n",
    "    sql = \"INSERT INTO s_superstore.tb_customer (customer_id, customer_name, segment, region, state, city, postal_code) VALUES (%s, %s, %s, %s, %s, %s, %s)\"\n",
    "    values = (row['customer_id'], row['customer_name'], row['segment'], row['region'], row['state'], row['city'], row['postal_code'])\n",
    "    cursor.execute(sql, values)\n",
    "\n",
    "conn.commit()"
   ]
  },
  {
   "cell_type": "code",
   "execution_count": null,
   "metadata": {},
   "outputs": [],
   "source": [
    "# Insérer les données du dataframe dans la table s_superstore.tb_product\n",
    "cursor = conn.cursor()\n",
    "for index, row in product.iterrows():\n",
    "    sql = \"INSERT INTO s_superstore.tb_product (product_id, product_name, category, sub_category, unit_price) VALUES (%s, %s, %s, %s, %s)\"\n",
    "    values = (row['product_id'], row['product_name'], row['category'], row['sub_category'], row['unit_price'])\n",
    "    cursor.execute(sql, values)\n",
    "\n",
    "conn.commit()"
   ]
  },
  {
   "cell_type": "code",
   "execution_count": null,
   "metadata": {},
   "outputs": [],
   "source": [
    "# Insérer les données du dataframe dans la table s_superstore.tb_order\n",
    "cursor = conn.cursor()\n",
    "for index, row in order.iterrows():\n",
    "    sql = \"INSERT INTO s_superstore.tb_order (order_id, order_date, ship_date, ship_mode, customer_id, product_id, sales, quantity, discount, profit) VALUES (%s, %s, %s, %s, %s, %s, %s, %s, %s, %s)\"\n",
    "    values = (row['order_id'], row['order_date'], row['ship_date'],row['ship_mode'], row['customer_id'], row['product_id'], row['sales'], row['quantity'], row['discount'], row['profit'])\n",
    "    cursor.execute(sql, values)\n",
    "\n",
    "conn.commit()\n",
    "cursor.close()\n",
    "conn.close()"
   ]
  }
 ],
 "metadata": {
  "kernelspec": {
   "display_name": "Python 3",
   "language": "python",
   "name": "python3"
  },
  "language_info": {
   "codemirror_mode": {
    "name": "ipython",
    "version": 3
   },
   "file_extension": ".py",
   "mimetype": "text/x-python",
   "name": "python",
   "nbconvert_exporter": "python",
   "pygments_lexer": "ipython3",
   "version": "3.10.0"
  }
 },
 "nbformat": 4,
 "nbformat_minor": 2
}
