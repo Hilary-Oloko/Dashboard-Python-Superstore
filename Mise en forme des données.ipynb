{
 "cells": [
  {
   "cell_type": "code",
   "execution_count": null,
   "metadata": {},
   "outputs": [],
   "source": [
    "import psycopg2\n",
    "import pandas as pd"
   ]
  },
  {
   "cell_type": "code",
   "execution_count": null,
   "metadata": {},
   "outputs": [],
   "source": [
    "# connexion BDD\n",
    "host = \"localhost\"\n",
    "database = \"DB_SUPERSTORE\"\n",
    "user = \"postgres\"\n",
    "password = \"root\"\n",
    "\n",
    "conn = psycopg2.connect(\n",
    "    host=host,\n",
    "    database=database,\n",
    "    user=user,\n",
    "    password=password\n",
    ")"
   ]
  },
  {
   "cell_type": "code",
   "execution_count": null,
   "metadata": {},
   "outputs": [],
   "source": [
    "# Create a cursor\n",
    "cur = conn.cursor()\n",
    "\n",
    "# Executing an SQL query\n",
    "cur.execute(\"SELECT * FROM s_superstore.tb_superstore\")\n",
    "data = cur.fetchall()\n",
    "\n",
    "# Transform results into Pandas DataFrame\n",
    "df = pd.DataFrame(data, columns=[\"order_id\",\"order_date\",\"ship_date\",\"ship_mode\",\"customer_id\",\"customer_name\",\"segment\",\"country\",\"city\",\"state\",\"postal_code\",\"region\",\"product_id\",\"category\",\"sub_category\",\"product_name\",\"sales\",\"quantity\",\"discount\",\"profit\"])"
   ]
  },
  {
   "cell_type": "code",
   "execution_count": null,
   "metadata": {},
   "outputs": [],
   "source": [
    "df['category'].hist()\n",
    "df['region'].hist()"
   ]
  },
  {
   "cell_type": "code",
   "execution_count": null,
   "metadata": {},
   "outputs": [],
   "source": [
    "# Delete lines with no sales value\n",
    "df = df.dropna(subset=[\"quantity\"]) #With this modification we now have 9987 rows\n",
    "\n",
    "# Define the type of each column\n",
    "df['order_id'] = df['order_id'].astype(str)\n",
    "df['order_date'] = pd.to_datetime(df['order_date'])\n",
    "df['ship_date'] = pd.to_datetime(df['ship_date'])\n",
    "df['ship_mode'] = df['ship_mode'].astype(str)\n",
    "df['customer_id'] = df['customer_id'].astype(str)\n",
    "df['customer_name'] = df['customer_name'].astype(str)\n",
    "df['segment'] = df['segment'].astype(str)\n",
    "df['country'] = df['country'].astype(str)\n",
    "df['city'] = df['city'].astype(str)\n",
    "df['state'] = df['state'].astype(str)\n",
    "df['postal_code'] = df['postal_code'].astype(str)\n",
    "df['region'] = df['region'].astype(str)\n",
    "df['product_id'] = df['product_id'].astype(str)\n",
    "df['category'] = df['category'].astype(str)\n",
    "df['sub_category'] = df['sub_category'].astype(str)\n",
    "df['product_name'] = df['product_name'].astype(str)\n",
    "df['sales'] = df['sales'].astype(float)\n",
    "df['quantity'] = df['quantity'].astype(int)\n",
    "df['discount'] = df['discount'].astype(float)\n",
    "df['profit'] = df['profit'].astype(float)"
   ]
  },
  {
   "cell_type": "code",
   "execution_count": null,
   "metadata": {},
   "outputs": [],
   "source": [
    "# Identify products with duplicate IDs\n",
    "duplicate_product_id = df.groupby('product_id')['product_name'].nunique()\n",
    "products_with_duplicates = duplicate_product_id[duplicate_product_id > 1].index #List product_id with two names\n",
    "\n",
    "# Update duplicate product IDs\n",
    "for product_id in products_with_duplicates:\n",
    "    # Retrieve all lines with this product ID\n",
    "    rows_with_duplicate_id = df.loc[df['product_id'] == product_id]\n",
    "    \n",
    "    # Identify lines with second product name\n",
    "    second_product_names = rows_with_duplicate_id['product_name'].value_counts().index[1:]\n",
    "    \n",
    "    # Update line IDs with second product name\n",
    "    for product_name in second_product_names:\n",
    "        rows_to_update = rows_with_duplicate_id.loc[rows_with_duplicate_id['product_name'] == product_name]\n",
    "        new_product_id = f\"{product_id}2\"\n",
    "        for i, row in rows_to_update.iterrows():\n",
    "            df.at[i, 'product_id'] = new_product_id # Now we have 1893 different products\n",
    "\n",
    "# Calculate the unit price using the formula: sales / (quantity * (1 - discount))\n",
    "df['unit_price'] = (df['sales'] / (df['quantity'] * (1 - df['discount']))).round(2)\n",
    "\n",
    "# Identify products with the same name\n",
    "# List products with the same name but different IDs and different category or sub cat)\n",
    "diff_id = df.loc[df.groupby('product_name')['product_id'].transform('nunique') == 2].copy()\n",
    "\n",
    "#We use == 2 because after analysis we noticed that only those with 2 IDs are identical.\n",
    "diff_id = diff_id[diff_id.groupby('product_name')['unit_price'].transform('nunique') == 1]\n",
    "df.loc[diff_id.index, 'product_id'] = diff_id.groupby('product_name')['product_id'].transform('first')\n",
    "\n",
    "df['profit']=df['profit'].round(2)\n",
    "\n",
    "#df.describe()"
   ]
  },
  {
   "cell_type": "code",
   "execution_count": null,
   "metadata": {},
   "outputs": [],
   "source": [
    "# Product creation\n",
    "list = ['product_id','product_name', 'category', 'sub_category', 'unit_price']\n",
    "product = df[list]\n",
    "\n",
    "# Delete duplicate product_ids to have unique values in the dimension\n",
    "product = product.drop_duplicates(subset=\"product_id\")\n",
    "#product.describe() # We find ourselves with 1,886 different products\n",
    "\n",
    "product['product_id'] = df['product_id'].astype(str)\n",
    "product['category'] = df['category'].astype(str)\n",
    "product['sub_category'] = df['sub_category'].astype(str)\n",
    "product['product_name'] = df['product_name'].astype(str)"
   ]
  },
  {
   "cell_type": "code",
   "execution_count": null,
   "metadata": {},
   "outputs": [],
   "source": [
    "# customer creation\n",
    "list = ['customer_id','customer_name', 'segment','region', 'state', 'city', 'postal_code']\n",
    "customer = df[list]\n",
    "\n",
    "# Delete duplicate values\n",
    "customer = customer.drop_duplicates(subset=\"customer_id\")\n",
    "#customer.describe()"
   ]
  },
  {
   "cell_type": "code",
   "execution_count": null,
   "metadata": {},
   "outputs": [],
   "source": [
    "# Order Creation\n",
    "to_drop = ['customer_name', 'segment', 'country', 'city', 'state', 'postal_code','region', 'category', 'sub_category', 'product_name', 'unit_price']\n",
    "order = df.drop(columns=to_drop)"
   ]
  },
  {
   "cell_type": "code",
   "execution_count": null,
   "metadata": {},
   "outputs": [],
   "source": [
    "# Insert data from the dataframe into the s_superstore.tb_customer table\n",
    "cursor = conn.cursor()\n",
    "for index, row in customer.iterrows():\n",
    "    sql = \"INSERT INTO s_superstore.tb_customer (customer_id, customer_name, segment, region, state, city, postal_code) VALUES (%s, %s, %s, %s, %s, %s, %s)\"\n",
    "    values = (row['customer_id'], row['customer_name'], row['segment'], row['region'], row['state'], row['city'], row['postal_code'])\n",
    "    cursor.execute(sql, values)\n",
    "\n",
    "conn.commit()"
   ]
  },
  {
   "cell_type": "code",
   "execution_count": null,
   "metadata": {},
   "outputs": [],
   "source": [
    "# Insert data from the dataframe into the s_superstore.tb_product table\n",
    "cursor = conn.cursor()\n",
    "for index, row in product.iterrows():\n",
    "    sql = \"INSERT INTO s_superstore.tb_product (product_id, product_name, category, sub_category, unit_price) VALUES (%s, %s, %s, %s, %s)\"\n",
    "    values = (row['product_id'], row['product_name'], row['category'], row['sub_category'], row['unit_price'])\n",
    "    cursor.execute(sql, values)\n",
    "\n",
    "conn.commit()"
   ]
  },
  {
   "cell_type": "code",
   "execution_count": null,
   "metadata": {},
   "outputs": [],
   "source": [
    "# Insert data from the dataframe into the s_superstore.tb_order table\n",
    "cursor = conn.cursor()\n",
    "for index, row in order.iterrows():\n",
    "    sql = \"INSERT INTO s_superstore.tb_order (order_id, order_date, ship_date, ship_mode, customer_id, product_id, sales, quantity, discount, profit) VALUES (%s, %s, %s, %s, %s, %s, %s, %s, %s, %s)\"\n",
    "    values = (row['order_id'], row['order_date'], row['ship_date'],row['ship_mode'], row['customer_id'], row['product_id'], row['sales'], row['quantity'], row['discount'], row['profit'])\n",
    "    cursor.execute(sql, values)\n",
    "\n",
    "conn.commit()\n",
    "cursor.close()\n",
    "conn.close()"
   ]
  }
 ],
 "metadata": {
  "kernelspec": {
   "display_name": "Python 3",
   "language": "python",
   "name": "python3"
  },
  "language_info": {
   "codemirror_mode": {
    "name": "ipython",
    "version": 3
   },
   "file_extension": ".py",
   "mimetype": "text/x-python",
   "name": "python",
   "nbconvert_exporter": "python",
   "pygments_lexer": "ipython3",
   "version": "3.10.0"
  }
 },
 "nbformat": 4,
 "nbformat_minor": 2
}
